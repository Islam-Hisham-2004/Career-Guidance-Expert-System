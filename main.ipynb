{
 "cells": [
  {
   "cell_type": "code",
   "execution_count": 1,
   "id": "d021d183",
   "metadata": {},
   "outputs": [],
   "source": [
    "import pandas as pd\n",
    "import numpy as np"
   ]
  },
  {
   "cell_type": "code",
   "execution_count": 3,
   "id": "316f8d21",
   "metadata": {},
   "outputs": [],
   "source": [
    "df=pd.read_csv('Career Guidance Expert System.csv')"
   ]
  },
  {
   "cell_type": "code",
   "execution_count": 5,
   "id": "aadabaec",
   "metadata": {},
   "outputs": [
    {
     "data": {
      "text/html": [
       "<div>\n",
       "<style scoped>\n",
       "    .dataframe tbody tr th:only-of-type {\n",
       "        vertical-align: middle;\n",
       "    }\n",
       "\n",
       "    .dataframe tbody tr th {\n",
       "        vertical-align: top;\n",
       "    }\n",
       "\n",
       "    .dataframe thead th {\n",
       "        text-align: right;\n",
       "    }\n",
       "</style>\n",
       "<table border=\"1\" class=\"dataframe\">\n",
       "  <thead>\n",
       "    <tr style=\"text-align: right;\">\n",
       "      <th></th>\n",
       "      <th>hard_skill</th>\n",
       "      <th>soft_skill</th>\n",
       "      <th>label</th>\n",
       "      <th>candidate_field</th>\n",
       "    </tr>\n",
       "  </thead>\n",
       "  <tbody>\n",
       "    <tr>\n",
       "      <th>3</th>\n",
       "      <td>['access controls', 'data', 'intrusion detecti...</td>\n",
       "      <td>['information technology', 'infrastructure', '...</td>\n",
       "      <td>1</td>\n",
       "      <td>telecomunication</td>\n",
       "    </tr>\n",
       "    <tr>\n",
       "      <th>7</th>\n",
       "      <td>['business', 'business development', 'c', 'sal...</td>\n",
       "      <td>['management']</td>\n",
       "      <td>1</td>\n",
       "      <td>telecomunication</td>\n",
       "    </tr>\n",
       "    <tr>\n",
       "      <th>12</th>\n",
       "      <td>['business', 'business process', 'business pro...</td>\n",
       "      <td>['information technology', 'management', 'prob...</td>\n",
       "      <td>1</td>\n",
       "      <td>telecomunication</td>\n",
       "    </tr>\n",
       "    <tr>\n",
       "      <th>17</th>\n",
       "      <td>['application', 'consolidation', 'crm', 'finan...</td>\n",
       "      <td>['integration', 'teaching']</td>\n",
       "      <td>1</td>\n",
       "      <td>telecomunication</td>\n",
       "    </tr>\n",
       "    <tr>\n",
       "      <th>21</th>\n",
       "      <td>['acceptance testing', 'automation', 'budgetin...</td>\n",
       "      <td>['collaboration', 'integration', 'management',...</td>\n",
       "      <td>1</td>\n",
       "      <td>telecomunication</td>\n",
       "    </tr>\n",
       "    <tr>\n",
       "      <th>...</th>\n",
       "      <td>...</td>\n",
       "      <td>...</td>\n",
       "      <td>...</td>\n",
       "      <td>...</td>\n",
       "    </tr>\n",
       "    <tr>\n",
       "      <th>9981</th>\n",
       "      <td>['amazon web services', 'backend', 'business',...</td>\n",
       "      <td>['enthusiasm', 'infrastructure', 'innovation',...</td>\n",
       "      <td>1</td>\n",
       "      <td>telecomunication</td>\n",
       "    </tr>\n",
       "    <tr>\n",
       "      <th>9987</th>\n",
       "      <td>['active directory', 'business', 'data', 'desk...</td>\n",
       "      <td>['customer service', 'management', 'operations...</td>\n",
       "      <td>1</td>\n",
       "      <td>telecomunication</td>\n",
       "    </tr>\n",
       "    <tr>\n",
       "      <th>9989</th>\n",
       "      <td>['business', 'business awareness', 'phase', 'r...</td>\n",
       "      <td>['consulting', 'coordinating', 'leadership', '...</td>\n",
       "      <td>1</td>\n",
       "      <td>telecomunication</td>\n",
       "    </tr>\n",
       "    <tr>\n",
       "      <th>9995</th>\n",
       "      <td>['data', 'flowcharts', 'incident management', ...</td>\n",
       "      <td>['computer literacy', 'customer service', 'lis...</td>\n",
       "      <td>1</td>\n",
       "      <td>telecomunication</td>\n",
       "    </tr>\n",
       "    <tr>\n",
       "      <th>9999</th>\n",
       "      <td>['active directory', 'amazon web services', 'a...</td>\n",
       "      <td>['investigation', 'management', 'operations', ...</td>\n",
       "      <td>1</td>\n",
       "      <td>telecomunication</td>\n",
       "    </tr>\n",
       "  </tbody>\n",
       "</table>\n",
       "<p>2382 rows × 4 columns</p>\n",
       "</div>"
      ],
      "text/plain": [
       "                                             hard_skill  \\\n",
       "3     ['access controls', 'data', 'intrusion detecti...   \n",
       "7     ['business', 'business development', 'c', 'sal...   \n",
       "12    ['business', 'business process', 'business pro...   \n",
       "17    ['application', 'consolidation', 'crm', 'finan...   \n",
       "21    ['acceptance testing', 'automation', 'budgetin...   \n",
       "...                                                 ...   \n",
       "9981  ['amazon web services', 'backend', 'business',...   \n",
       "9987  ['active directory', 'business', 'data', 'desk...   \n",
       "9989  ['business', 'business awareness', 'phase', 'r...   \n",
       "9995  ['data', 'flowcharts', 'incident management', ...   \n",
       "9999  ['active directory', 'amazon web services', 'a...   \n",
       "\n",
       "                                             soft_skill  label  \\\n",
       "3     ['information technology', 'infrastructure', '...      1   \n",
       "7                                        ['management']      1   \n",
       "12    ['information technology', 'management', 'prob...      1   \n",
       "17                          ['integration', 'teaching']      1   \n",
       "21    ['collaboration', 'integration', 'management',...      1   \n",
       "...                                                 ...    ...   \n",
       "9981  ['enthusiasm', 'infrastructure', 'innovation',...      1   \n",
       "9987  ['customer service', 'management', 'operations...      1   \n",
       "9989  ['consulting', 'coordinating', 'leadership', '...      1   \n",
       "9995  ['computer literacy', 'customer service', 'lis...      1   \n",
       "9999  ['investigation', 'management', 'operations', ...      1   \n",
       "\n",
       "       candidate_field  \n",
       "3     telecomunication  \n",
       "7     telecomunication  \n",
       "12    telecomunication  \n",
       "17    telecomunication  \n",
       "21    telecomunication  \n",
       "...                ...  \n",
       "9981  telecomunication  \n",
       "9987  telecomunication  \n",
       "9989  telecomunication  \n",
       "9995  telecomunication  \n",
       "9999  telecomunication  \n",
       "\n",
       "[2382 rows x 4 columns]"
      ]
     },
     "execution_count": 5,
     "metadata": {},
     "output_type": "execute_result"
    }
   ],
   "source": [
    "df[df['label']==1]"
   ]
  },
  {
   "cell_type": "code",
   "execution_count": 6,
   "id": "4cfb2ccb",
   "metadata": {},
   "outputs": [
    {
     "data": {
      "text/plain": [
       "candidate_field\n",
       "telecomunication                   2382\n",
       "healthcare & medical               1831\n",
       "administration & office support    1526\n",
       "accounting                         1477\n",
       "sales                              1242\n",
       "retail & consumer products          674\n",
       "marketing                           609\n",
       "advertising, arts & media           140\n",
       "sport & recreation                  119\n",
       "Name: count, dtype: int64"
      ]
     },
     "execution_count": 6,
     "metadata": {},
     "output_type": "execute_result"
    }
   ],
   "source": [
    "df['candidate_field'].value_counts()"
   ]
  },
  {
   "cell_type": "code",
   "execution_count": 11,
   "id": "1e6f9a72",
   "metadata": {},
   "outputs": [],
   "source": [
    "df.duplicated().sum()\n",
    "df=df.drop_duplicates()"
   ]
  },
  {
   "cell_type": "code",
   "execution_count": 12,
   "id": "618457a1",
   "metadata": {},
   "outputs": [
    {
     "data": {
      "text/plain": [
       "np.int64(0)"
      ]
     },
     "execution_count": 12,
     "metadata": {},
     "output_type": "execute_result"
    }
   ],
   "source": [
    "df.duplicated().sum()"
   ]
  },
  {
   "cell_type": "code",
   "execution_count": 13,
   "id": "40ea7286",
   "metadata": {},
   "outputs": [
    {
     "data": {
      "text/plain": [
       "candidate_field\n",
       "telecomunication                   2382\n",
       "healthcare & medical               1831\n",
       "administration & office support    1526\n",
       "accounting                         1467\n",
       "sales                              1242\n",
       "retail & consumer products          674\n",
       "marketing                           609\n",
       "advertising, arts & media           140\n",
       "sport & recreation                  119\n",
       "Name: count, dtype: int64"
      ]
     },
     "execution_count": 13,
     "metadata": {},
     "output_type": "execute_result"
    }
   ],
   "source": [
    "df['candidate_field'].value_counts()"
   ]
  },
  {
   "cell_type": "code",
   "execution_count": 14,
   "id": "486088e3",
   "metadata": {},
   "outputs": [
    {
     "data": {
      "text/plain": [
       "hard_skill\n",
       "[]                                                                                                                                                                                                                                                                                                                                  48\n",
       "['service']                                                                                                                                                                                                                                                                                                                         33\n",
       "['business']                                                                                                                                                                                                                                                                                                                        27\n",
       "['sales', 'service']                                                                                                                                                                                                                                                                                                                16\n",
       "['business', 'sales']                                                                                                                                                                                                                                                                                                               14\n",
       "                                                                                                                                                                                                                                                                                                                                    ..\n",
       "['business', 'business transformation', 'career development', 'continuous training', 'development environment', 'management consulting', 'pmo', 'progress reporting', 'project management', 'project planning', 'remuneration', 'resource management', 'risk management', 'security', 'track', 'transformation', 'transparency']     1\n",
       "['accounting information systems', 'authorization', 'champagne', 'finance', 'information systems', 'investing', 'ledgers', 'legislation', 'management systems', 'numeracy', 'records management', 'reporting tools', 'security', 'service', 'standard', 'statistics', 'winemaking', 'excel']                                         1\n",
       "['business', 'consultative selling', 'sales']                                                                                                                                                                                                                                                                                        1\n",
       "['business', 'career development', 'collections', 'customer satisfaction', 'sales', 'service']                                                                                                                                                                                                                                       1\n",
       "['application', 'business', 'general administrative support', 'professional services', 'public transport']                                                                                                                                                                                                                           1\n",
       "Name: count, Length: 9551, dtype: int64"
      ]
     },
     "execution_count": 14,
     "metadata": {},
     "output_type": "execute_result"
    }
   ],
   "source": [
    "df['hard_skill'].value_counts()"
   ]
  },
  {
   "cell_type": "code",
   "execution_count": 15,
   "id": "6afa07be",
   "metadata": {},
   "outputs": [
    {
     "data": {
      "text/plain": [
       "soft_skill\n",
       "[]                                                                                                                                     1121\n",
       "['management']                                                                                                                          582\n",
       "['customer service']                                                                                                                    215\n",
       "['customer service', 'management']                                                                                                       87\n",
       "['management', 'planning']                                                                                                               85\n",
       "                                                                                                                                       ... \n",
       "['management', 'time management', 'writing', 'written communication']                                                                     1\n",
       "['consulting', 'coordinating', 'leadership', 'management', 'planning', 'team leadership']                                                 1\n",
       "['computer literacy', 'customer service', 'listening skills', 'literacy', 'management', 'microsoft office', 'willingness to learn']       1\n",
       "['customer service', 'data entry', 'english', 'innovation', 'management', 'microsoft office', 'time management']                          1\n",
       "['management', 'numbers', 'professionalism', 'time management', 'written communication']                                                  1\n",
       "Name: count, Length: 4991, dtype: int64"
      ]
     },
     "execution_count": 15,
     "metadata": {},
     "output_type": "execute_result"
    }
   ],
   "source": [
    "df['soft_skill'].value_counts()"
   ]
  },
  {
   "cell_type": "code",
   "execution_count": 16,
   "id": "35be0a4d",
   "metadata": {},
   "outputs": [
    {
     "data": {
      "text/plain": [
       "label\n",
       "0    7608\n",
       "1    2382\n",
       "Name: count, dtype: int64"
      ]
     },
     "execution_count": 16,
     "metadata": {},
     "output_type": "execute_result"
    }
   ],
   "source": [
    "df['label'].value_counts()"
   ]
  },
  {
   "cell_type": "code",
   "execution_count": null,
   "id": "033511e6",
   "metadata": {},
   "outputs": [],
   "source": [
    "df[df[]]"
   ]
  }
 ],
 "metadata": {
  "kernelspec": {
   "display_name": "Python 3",
   "language": "python",
   "name": "python3"
  },
  "language_info": {
   "codemirror_mode": {
    "name": "ipython",
    "version": 3
   },
   "file_extension": ".py",
   "mimetype": "text/x-python",
   "name": "python",
   "nbconvert_exporter": "python",
   "pygments_lexer": "ipython3",
   "version": "3.12.4"
  }
 },
 "nbformat": 4,
 "nbformat_minor": 5
}
